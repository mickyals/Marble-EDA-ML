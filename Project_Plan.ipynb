{
 "cells": [
  {
   "cell_type": "markdown",
   "id": "e132b0cd-ccc8-4079-8b4b-ee15870ae82a",
   "metadata": {},
   "source": [
    "## Goal\n",
    "\n",
    "- COmplete Ryan's tutorials as examples of analysis of geoscience data\n",
    "- To build a full ML project in marble (variables -> thunderstorms)\n",
    "- recreate [climate report](https://data.ene.iiasa.ac.at/sr15_scenario_analysis/index.html) notebooks\n",
    "\n",
    "\n",
    "### Steps\n",
    "\n",
    "1. the test by Ryan Abernathey provides a great framework.\n",
    "   1. Make a copy of the text chapters optimised for Marble\n",
    "2. Once, optimised, begin a visual tutorial\n",
    "   1. Tutorial on retrieving data in Marble\n",
    "   2. Tutorial on EDA in Marble\n",
    "   3. Tutorial on feature engineering in Marble\n",
    "   4. Tutorial building and testing an ML solution in Marble\n",
    "3. Make changes to the book chapters based on learnings encountered during step 2\n",
    "4. Submit for review\n",
    "   1. Make changes as needed or requested\n",
    "   2. submit\n",
    "   3. repeat step 4 if necessary."
   ]
  },
  {
   "cell_type": "markdown",
   "id": "45b0fd43-10c0-4eca-875d-554bd6bfb6b7",
   "metadata": {},
   "source": [
    "[Notebooks for climate reports](https://data.ene.iiasa.ac.at/sr15_scenario_analysis/index.html) check out notebooks at later date\n"
   ]
  },
  {
   "cell_type": "markdown",
   "id": "34322bbc-6abb-4e67-9154-3210fd48ddea",
   "metadata": {},
   "source": [
    "## Notes for specfic additions or changes"
   ]
  },
  {
   "cell_type": "markdown",
   "id": "5c4b741a-edfa-479f-a045-025dbe95c9b1",
   "metadata": {},
   "source": [
    "### Chapter 1 - Interactive computing environment\n",
    "\n",
    "#### Intro to JupyterLab\n",
    "1. Essentially follows Ryan's outline and intro with directions to official Jupyter documentation\n",
    "2. Assumption is users should have some familiarity with JupyterLab as an environment\n",
    "\n",
    "#### Intro to UNIX\n",
    "1. removed extra notes on mv and cp since they are self explanatory\n",
    "2. provided link for command explanation\n",
    "3. customised Ryan's text to suit the unix environment for Marble\n",
    "\n",
    "#### Git and Version Control\n",
    "1. ryan's information was pretty good at explaining\n",
    "2. git comes preinstalled in Marble\n",
    "3. not a thorough tutorial, simply a good to know.\n",
    "4. resource for more learning provided\n",
    "\n"
   ]
  },
  {
   "cell_type": "markdown",
   "id": "d075b684-cf95-4ce1-bdfe-efb97915a9f7",
   "metadata": {},
   "source": [
    "### Chapter 2 - Python\n",
    "**A. Section 1 - Python Basics**\n",
    "#### Python Intro\n",
    "1. Ryan's work was pretty great here so few changes made\n",
    "2. added W3School link to practice for those still learning\n",
    "\n",
    "#### Functions and classes\n",
    "1. Ryan's work was pretty great here so few changes made\n",
    "\n",
    "**B. Section 2 - Scientific Python**\n",
    "#### Numpy and Matplotlib\n",
    "1. no significant changes\n",
    "2. using the tutorial, basic analysis can be conducted on earth science data.\n",
    "3. worked examples use more than is discussed in tutorial but again this is fine, the tutorials are introductory"
   ]
  },
  {
   "cell_type": "markdown",
   "id": "444102fe-fc35-4c65-9536-d789ed8a84df",
   "metadata": {},
   "source": [
    "### Chapter 3 - Pandas and Xarray\n",
    "\n",
    "### Pandas\n",
    "1. the tutorial was quite comprehensive here, minor additions added - direct links to specific pandas documentation\n",
    "2. worked example completed, both of them\n",
    "\n",
    "### Xarray\n",
    "1. The first tutorial is completed, took a bit of time because of my unfamiliarity with the package\n",
    "2. completed the second worked example. though, use of resample, groupby and rolling was limited."
   ]
  },
  {
   "cell_type": "markdown",
   "id": "7d3d6634-5871-4868-a144-ef5387406cb8",
   "metadata": {},
   "source": [
    "### Chapter 4 - Geoscienc ePackage - Cartopy\n",
    "\n",
    "1. need to download and store image files locally for this and others"
   ]
  }
 ],
 "metadata": {
  "kernelspec": {
   "display_name": "Python 3 (ipykernel)",
   "language": "python",
   "name": "python3"
  },
  "language_info": {
   "codemirror_mode": {
    "name": "ipython",
    "version": 3
   },
   "file_extension": ".py",
   "mimetype": "text/x-python",
   "name": "python",
   "nbconvert_exporter": "python",
   "pygments_lexer": "ipython3",
   "version": "3.11.6"
  }
 },
 "nbformat": 4,
 "nbformat_minor": 5
}
