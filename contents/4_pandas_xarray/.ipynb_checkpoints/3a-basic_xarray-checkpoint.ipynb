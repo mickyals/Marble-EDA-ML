{
 "cells": [
  {
   "cell_type": "markdown",
   "metadata": {},
   "source": [
    "Disclaimer: Kindly be aware that the questions and datasets featured in this tutorial were originally presented by [Ryan Abernathy in \"An Introduction to Earth and Environmental Data Science\"](https://earth-env-data-science.github.io/intro.html)."
   ]
  },
  {
   "cell_type": "markdown",
   "metadata": {},
   "source": [
    "# Xarray Fundamentals with Atmospheric Radiation Data\n",
    "\n",
    "This tutorial will introduce you to the Python library, `Xarray`. Xarray is a library designed for working with multi-dimensional arrays. This allows for the handling of geoscience data which typically involve multiple dimensions - for instance, latitude, longitude, time, and channels *(Python Basics 5: Xarray — Digital Earth Africa Training 0.1 Documentation, n.d.)*. Xarray has two basic data types\n",
    "\n",
    "- `xarray.DataArray` - an array of data as well as its meta data\n",
    "  <p>For example an array of temperatures across the surface of the earth.\n",
    "- `xarray.Dataset` - multiple data arrays merged into a single dataset with all associated metadata.\n",
    "  <p>For example temperature and precipitation data across the surface of the earth.\n",
    "\n",
    "Xarray is primary used to work with NetCDF files.\n",
    "\n",
    "By the end of this tutorial, you would ahve gained a basic understanding of data manipulation and visualisation using Xarray.\n",
    "\n",
    "<img src=\"https://docs.xarray.dev/en/stable/_images/dataset-diagram.png\" width=65%>\n",
    "<br>\n",
    "<br>\n",
    "<br>\n",
    "<br>\n",
    "\n",
    "We will use Xarray to analyze top-of-atmosphere radiation data from [NASA's CERES project](https://ceres.larc.nasa.gov/).\n",
    "\n",
    "<img src=\"https://upload.wikimedia.org/wikipedia/commons/b/bb/The-NASA-Earth%27s-Energy-Budget-Poster-Radiant-Energy-System-satellite-infrared-radiation-fluxes.jpg\" width=40%>\n",
    "\n",
    "_Public domain, by NASA, from Wikimedia Commons_\n",
    "\n",
    "\n",
    "A pre-downloaded and subsetted a portion of the CERES dataset is available here: http://ldeo.columbia.edu/~rpa/CERES_EBAF-TOA_Edition4.0_200003-201701.condensed.nc. The size of the data file is 702.53 MB. It may take a few minutes to download.\n",
    "\n",
    "Please review the CERES [FAQs](https://ceres.larc.nasa.gov/resources/faqs) before getting started.\n",
    "\n",
    "Start by importing Numpy, Matplotlib, and Xarray. Set the default figure size to (12, 6)."
   ]
  },
  {
   "cell_type": "code",
   "execution_count": null,
   "metadata": {},
   "outputs": [],
   "source": [
    "import xarray as xr\n",
    "import numpy as np\n",
    "from matplotlib import pyplot as plt\n",
    "plt.rcParams['figure.figsize'] = (12, 6)\n",
    "%config InlineBackend.figure_format = 'retina'\n",
    "\n",
    "#filter warnings for cleaner notebook look\n",
    "import warnings\n",
    "warnings.filterwarnings('ignore')"
   ]
  },
  {
   "cell_type": "markdown",
   "metadata": {},
   "source": [
    "Next, let's download the NetCDF file."
   ]
  },
  {
   "cell_type": "markdown",
   "metadata": {},
   "source": [
    "### Checking and changing working directory"
   ]
  },
  {
   "cell_type": "code",
   "execution_count": null,
   "metadata": {},
   "outputs": [],
   "source": [
    "!pwd"
   ]
  },
  {
   "cell_type": "code",
   "execution_count": null,
   "metadata": {},
   "outputs": [],
   "source": [
    "%cd /notebook_dir/mypublic/Tutorial/Chapters/"
   ]
  },
  {
   "cell_type": "code",
   "execution_count": null,
   "metadata": {},
   "outputs": [],
   "source": [
    "!pwd"
   ]
  },
  {
   "cell_type": "markdown",
   "metadata": {},
   "source": [
    "<br>\n",
    "<br>\n",
    "\n",
    "### Fetching the data"
   ]
  },
  {
   "cell_type": "code",
   "execution_count": null,
   "metadata": {},
   "outputs": [],
   "source": [
    "import requests\n",
    "\n",
    "data_url = \"http://ldeo.columbia.edu/~rpa/CERES_EBAF-TOA_Edition4.0_200003-201701.condensed.nc\"\n",
    "\n",
    "response = requests.get(data_url, verify=False)\n",
    "\n",
    "with open(\"CERES_EBAF-TOA_Edition4.0_200003-201701.condensed.nc\", mode=\"wb\") as file:\n",
    "   file.write(response.content)"
   ]
  },
  {
   "cell_type": "markdown",
   "metadata": {},
   "source": [
    "#### Code Explanation\n",
    "\n",
    "While `pooch` is a robust tool for retrieving data from remote sources, it does have limitations, particularly when facing issues such as errors in the URL hosting the dataset. In such cases, `pooch` might raise exceptions, necessitating an alternative approach.\n",
    "\n",
    "To illustrate this, we define the URL of the data source and utilize the `requests` library to retrieve the data, setting SSL verification to False for cases where secure socket layer verification poses challenges.\n",
    "```python\n",
    "data_url = \"http://ldeo.columbia.edu/~rpa/CERES_EBAF-TOA_Edition4.0_200003-201701.condensed.nc\"\n",
    "\n",
    "response = requests.get(data_url, verify=False)\n",
    "```\n",
    "\n",
    "Subsequently, we save the file contents to a specified directory.\n",
    "```python\n",
    "with open(\"CERES_EBAF-TOA_Edition4.0_200003-201701.condensed.nc\", mode=\"wb\") as file:\n",
    "   file.write(response.content)\n",
    "```\n",
    "The data is now available with the specified name within the `open()` function.\n",
    "\n",
    "To further illustrate this limitation, run the code below and compare the output to that using the alternative method.\n",
    "```python\n",
    "import pooch\n",
    "fname = pooch.retrieve(\n",
    "    'http://ldeo.columbia.edu/~rpa/CERES_EBAF-TOA_Edition4.0_200003-201701.condensed.nc',\n",
    "    known_hash='a876cc7106e7dcb1344fbec5dcd7510e5cd947e62049a8cbc188ad05ffe00345', \n",
    "    progressbar=True\n",
    ")\n",
    "print(fname)\n",
    "```\n",
    "<br>\n",
    "<br>\n",
    "<br>"
   ]
  },
  {
   "cell_type": "markdown",
   "metadata": {},
   "source": [
    "## 1) Opening data and examining metadata"
   ]
  },
  {
   "cell_type": "markdown",
   "metadata": {
    "tags": []
   },
   "source": [
    "### 1.1) Open the dataset and display its contents \n"
   ]
  },
  {
   "cell_type": "markdown",
   "metadata": {},
   "source": [
    "copy name from directory"
   ]
  },
  {
   "cell_type": "code",
   "execution_count": null,
   "metadata": {},
   "outputs": [],
   "source": [
    "#create a variable to store file name\n",
    "data_file = \"CERES_EBAF-TOA_Edition4.0_200003-201701.condensed.nc\"\n",
    "\n",
    "#open data using x_array\n",
    "data = xr.open_dataset(data_file)\n",
    "data"
   ]
  },
  {
   "cell_type": "markdown",
   "metadata": {},
   "source": [
    "The `open_dataset()` function is used to open NetCDF files from a specified location. Since we've set the notebook's working directory, specifying only the file name is sufficient. Note, if the file is located in a different directory, it becomes necessary to provide the full path to access it.\n",
    "\n",
    "Let's introduce some basic `xarray` functions and attributes."
   ]
  },
  {
   "cell_type": "markdown",
   "metadata": {},
   "source": [
    "### 1.2) Printing the `long_name` of each variable"
   ]
  },
  {
   "cell_type": "code",
   "execution_count": null,
   "metadata": {},
   "outputs": [],
   "source": [
    "#loop through the variables\n",
    "for variable in data.variables:\n",
    "    #get the long name from attributes\n",
    "    long_name = data[variable].attrs.get('long_name', '')\n",
    "    print(f\"{variable} -- {long_name}.\")"
   ]
  },
  {
   "cell_type": "markdown",
   "metadata": {},
   "source": [
    "## 2) Basic reductions, arithmetic, and plotting"
   ]
  },
  {
   "cell_type": "markdown",
   "metadata": {
    "tags": []
   },
   "source": [
    "### 2.1) Calculate the time-mean of the entire dataset"
   ]
  },
  {
   "cell_type": "code",
   "execution_count": null,
   "metadata": {},
   "outputs": [],
   "source": [
    "#taking mean along a specific dimension\n",
    "time_mean = data.mean(dim='time')\n",
    "time_mean"
   ]
  },
  {
   "cell_type": "markdown",
   "metadata": {},
   "source": [
    "### 2.2) 2D plot of the the time-mean Top of Atmosphere (TOA) Longwave, Shortwave, and Incoming Solar Radiation\n",
    "(Use \"All-Sky\" conditions)\n",
    "\n",
    "Note the sign conventions on each variable."
   ]
  },
  {
   "cell_type": "code",
   "execution_count": null,
   "metadata": {},
   "outputs": [],
   "source": [
    "#plotting mean value over earth\n",
    "time_mean.toa_lw_all_mon.plot(y='lat' , x='lon')\n",
    "plt.title('TOA Longwave Radiation')\n",
    "plt.show()"
   ]
  },
  {
   "cell_type": "code",
   "execution_count": null,
   "metadata": {},
   "outputs": [],
   "source": [
    "time_mean.toa_sw_all_mon.plot(y='lat', x='lon')\n",
    "plt.title('TOA Shortwave Radiation')\n",
    "plt.show()"
   ]
  },
  {
   "cell_type": "code",
   "execution_count": null,
   "metadata": {},
   "outputs": [],
   "source": [
    "time_mean.solar_mon.plot(y='lat', x='lon')\n",
    "plt.title('TOA Incoming Radiation')\n",
    "plt.show()"
   ]
  },
  {
   "cell_type": "markdown",
   "metadata": {},
   "source": [
    "### 2.3) Add up the three variables above and verify (visually) that they are equivalent to the TOA net flux\n",
    "\n",
    "You have to pay attention to and think carefully about the sign conventions (positive or negative) for each variable in order for the variables to sum to the right TOA net flux. Refer to the NASA figure at the top of the page to understand incoming and outgoing radiation."
   ]
  },
  {
   "cell_type": "code",
   "execution_count": null,
   "metadata": {},
   "outputs": [],
   "source": [
    "#calculate flux\n",
    "time_mean['net_flux'] = time_mean['solar_mon'] - (time_mean['toa_lw_all_mon'] + time_mean['toa_sw_all_mon'])\n",
    "\n",
    "#plot the flux calculated\n",
    "time_mean.net_flux.plot(y='lat', x='lon')\n",
    "plt.title('Net Flux Radiation')\n",
    "plt.show()"
   ]
  },
  {
   "cell_type": "code",
   "execution_count": null,
   "metadata": {},
   "outputs": [],
   "source": [
    "#plot the net flux using the original data and compare\n",
    "time_mean.toa_net_all_mon.plot(y='lat', x='lon')\n",
    "\n",
    "# add the equator and set the line thickness to 30% of 1 unit\n",
    "plt.axhline(0, color='red', linestyle='solid',alpha=0.3, label='Equator')\n",
    "\n",
    "plt.title('TOA Net Flux Radiation')\n",
    "plt.legend()\n",
    "plt.show()"
   ]
  },
  {
   "cell_type": "markdown",
   "metadata": {},
   "source": [
    "## 3) Mean and weighted mean\n",
    "\n",
    "### 3.1) Calculate the global (unweighted) mean of TOA net radiation\n",
    "\n",
    "Since the Earth is approximately in radiative balance, the net TOA radiation should be zero. But taking the naive mean from this dataset, you should find a number far from zero. Why?"
   ]
  },
  {
   "cell_type": "code",
   "execution_count": null,
   "metadata": {},
   "outputs": [],
   "source": [
    "#basic mean calculation\n",
    "data['toa_net_all_mon'].mean()"
   ]
  },
  {
   "cell_type": "markdown",
   "metadata": {},
   "source": [
    "The answer is that each \"pixel\" or \"grid point\" of this dataset does not represent an equal area of Earth's surface. So naively taking the mean, i.e. giving equal weight to each point, gives the wrong answer.\n",
    "\n",
    "On a lat / lon grid, the relative area of each grid point is proportional to $\\cos(\\lambda)$. ($\\lambda$ is latitude)\n",
    "\n",
    "### 3.2) Create a `weight` array proportional to $\\cos(\\lambda)$\n",
    "\n",
    "Think carefully a about radians vs. degrees\n"
   ]
  },
  {
   "cell_type": "code",
   "execution_count": null,
   "metadata": {},
   "outputs": [],
   "source": [
    "#convert lat to radians then use cos function\n",
    "weights = np.cos(np.deg2rad(data.lat))\n",
    "\n",
    "#name array weights\n",
    "weights.name = \"weights\"\n",
    "weights"
   ]
  },
  {
   "cell_type": "markdown",
   "metadata": {},
   "source": [
    "### 3.3) Redo the global mean TOA net radiation calculation with this weight factor\n",
    "\n",
    "Use xarray's [weighted array reductions](http://xarray.pydata.org/en/stable/user-guide/computation.html#weighted-array-reductions) to compute the weighted mean."
   ]
  },
  {
   "cell_type": "code",
   "execution_count": null,
   "metadata": {},
   "outputs": [],
   "source": [
    "#created a weighted dataset\n",
    "\n",
    "data_weighted = data.weighted(weights)\n",
    "\n",
    "#selecting variables from weighted dataset objects\n",
    "data_weighted.mean().toa_net_all_mon"
   ]
  },
  {
   "cell_type": "markdown",
   "metadata": {},
   "source": [
    "Please be aware that the `weighted()` method yields a `DatasetWeighted` [object](https://docs.xarray.dev/en/stable/generated/xarray.core.weighted.DatasetWeighted.html). While extracting a single variable is feasible, it differs from the typical approach used with a standard xarray dataset. Please review [Xarray documentation](https://docs.xarray.dev/en/latest/examples/area_weighted_temperature.html) for more information.\n",
    "\n",
    "### 3.4) Now that you have a `weight` factor, verify that the TOA incoming solar, outgoing longwave, and outgoing shortwave approximately match up with infographic shown in the first cell of the tutorial"
   ]
  },
  {
   "cell_type": "code",
   "execution_count": null,
   "metadata": {},
   "outputs": [],
   "source": [
    "#multi variable selection of weighted dataset object\n",
    "data_weighted.mean()[['toa_lw_all_mon','toa_sw_all_mon','solar_mon']]"
   ]
  },
  {
   "cell_type": "markdown",
   "metadata": {},
   "source": [
    "<img src=\"https://upload.wikimedia.org/wikipedia/commons/b/bb/The-NASA-Earth%27s-Energy-Budget-Poster-Radiant-Energy-System-satellite-infrared-radiation-fluxes.jpg\" width=80%>\n",
    "\n",
    "_Public domain, by NASA, from Wikimedia Commons_\n",
    "\n",
    "\n",
    "- `solar_mon` is 340 in the graphic and 340.3 from our calculation\n",
    "- `toa_sw_all_mon` is the sum of reflected by surface and clouds, 99 which is close to our calculation\n",
    "- `toa_lw_all_mon` is 239.9 in the graphic which again is consistant with our result of 240"
   ]
  },
  {
   "cell_type": "markdown",
   "metadata": {},
   "source": [
    "## 4) Meridional Heat Transport Calculation\n",
    "#### Concepts for computation\n",
    "\n",
    "We can go beyond a weight factor and actually calculate the area of each pixel of the dataset. Because latitude and longitude correspond to spherical coordinates for Earth’s surface, each 1.0x1.0 degree grid cell actually has a different surface area as you move away from the equator! This is because latitudinal length is fixed ($  dLat = R d\\varphi $), but longitudinal length varies with latitude ($ d Lon = R d\\lambda \\cos(\\varphi) $)\n",
    "\n",
    "So the area element for lat-lon coordinates is\n",
    "\n",
    "$$ dA = R^2 \\cos(\\lambda) d\\lambda d \\varphi $$\n",
    "\n",
    "where $\\varphi$ is latitude, $d\\varphi$ is the spacing of the points in latitude, $d\\lambda$ is the spacing of the points in longitude, and $R = 6,371$ km is Earth’s radius. (In this formula, $\\varphi$ and $\\lambda$ are measured in radians) \n",
    "\n",
    "for more information, check out the [xarray in 45 min by OceanHackWeek](https://oceanhackweek.org/ohw22/tutorials/00-Mon/xarray-in-45-min.html).\n",
    "\n",
    "\n",
    "\n",
    "### 4.1) calculate the pixel area using this formula and create a 2D (lon, lat) DataArray for it"
   ]
  },
  {
   "cell_type": "code",
   "execution_count": null,
   "metadata": {},
   "outputs": [],
   "source": [
    "# Earth's average radius in km\n",
    "R = 6371.0\n",
    "\n",
    "# Coordinate spacing between each lat/lon is 1.0 degrees in the dataset\n",
    "d_lambda = np.deg2rad(1.0)\n",
    "d_phi = np.deg2rad(1.0)\n",
    "\n",
    "#calculation\n",
    "r_squared = R**2\n",
    "dA = r_squared * np.cos(np.deg2rad(data.lat)) * d_lambda * d_phi\n",
    "\n"
   ]
  },
  {
   "cell_type": "code",
   "execution_count": null,
   "metadata": {},
   "outputs": [],
   "source": [
    "#broadcasting array\n",
    "ones_array = xr.ones_like(data)\n",
    "#multiply ones array by dA\n",
    "pixel_area_da = ones_array * dA\n",
    "#total_area\n",
    "total_pixel_area = pixel_area_da.sum(dim=['lat', 'lon'])\n",
    "\n",
    "\n",
    "#earth's surface area\n",
    "earth_surface = 4 * np.pi * r_squared\n"
   ]
  },
  {
   "cell_type": "code",
   "execution_count": null,
   "metadata": {},
   "outputs": [],
   "source": [
    "#verify the calculation was correct\n",
    "\n",
    "print(f\" the pixel area is calculated to be {total_pixel_area.toa_sw_all_mon[0].values} and the surface area of the earth is {earth_surface}.\")\n"
   ]
  },
  {
   "cell_type": "markdown",
   "metadata": {
    "tags": []
   },
   "source": [
    "\n",
    "### 4.2) Calculate and plot the total amount of net radiation in each 1-degree latitude band\n",
    "Multiplying the pixel area (m$^2$) from above with the radiative flux (W m$^{-2}$) gives you the total amount of radiation absorbed in each pixel in W.\n",
    "\n",
    "Label with correct units."
   ]
  },
  {
   "cell_type": "code",
   "execution_count": null,
   "metadata": {},
   "outputs": [],
   "source": [
    "#create dataset of area * net\n",
    "net_by_area = dA * data.toa_net_all_mon\n",
    "\n",
    "\n",
    "#create figure\n",
    "plt.figure(figsize=(5,10))\n",
    "\n",
    "#plot data - summing along lon and time leaving lat uncompressed\n",
    "net_by_area.sum(dim=['lon','time']).plot(y='lat', color='deepskyblue',label='Net Radiation in Watts')\n",
    "\n",
    "#major lines of latitude\n",
    "plt.axhline(0, color='red', linestyle='solid', label='Equator')\n",
    "plt.axhline(23.5, color='orangered', linestyle='dotted', label='Tropic of Cancer')\n",
    "plt.axhline(-23.5, color='darkorange', linestyle='dotted', label='Tropic of Capricorn')\n",
    "plt.axhline(66.5, color='cyan', linestyle='dashdot', label='Arctic Circle')\n",
    "plt.axhline(-66.5, color='darkturquoise', linestyle='dashdot', label='Antarctic Circle')\n",
    "\n",
    "#make legend and place outside of plot\n",
    "plt.legend(loc='upper left', bbox_to_anchor=(1,1))\n",
    "\n",
    "#create titles\n",
    "plt.title('Total Absorbed Net Radiation')\n",
    "plt.ylabel('Latitude')\n",
    "plt.xlabel('Radiation in Watts (W)')\n",
    "\n",
    "plt.grid(which='major', axis='x')\n",
    "\n",
    "plt.show()\n"
   ]
  },
  {
   "cell_type": "markdown",
   "metadata": {},
   "source": [
    "Try making the same plot for incoming radation and total outgoing (short+long) "
   ]
  },
  {
   "cell_type": "markdown",
   "metadata": {},
   "source": [
    "### 4.3) Plot the cumulative sum of the total amount of net radiation as a function of latitude\n",
    "\n",
    "check out xarray's [cumsum](http://xarray.pydata.org/en/stable/generated/xarray.DataArray.cumsum.html) function.\n",
    "\n",
    "This curve tells you how much energy must be transported meridionally by the ocean and atmosphere in order to account for the radiative imbalance at the top of the atmosphere. Take a look at [Chapter 2.1.5.2 of Introduction to Climate Dynamics and Climate Modelling](https://www.climate.be/textbook/chapter2_node7_2.xml) for a better understanding of this concept."
   ]
  },
  {
   "cell_type": "markdown",
   "metadata": {},
   "source": [
    "A curve that looks something like this: https://journals.ametsoc.org/view/journals/clim/14/16/full-i1520-0442-14-16-3433-f07.gif (Figure from Trenberth & Caron, 2001)"
   ]
  },
  {
   "cell_type": "code",
   "execution_count": null,
   "metadata": {},
   "outputs": [],
   "source": [
    "# create a variable to hold the total\n",
    "total = net_by_area.sum(dim=['lon','time'])\n",
    "\n",
    "#take cumsum of total\n",
    "cumsum_total = total.cumsum()\n",
    "\n",
    "#plot cumsum\n",
    "cumsum_total.plot()\n",
    "#plot y=0\n",
    "plt.axhline(0, color='red', linestyle='solid')\n",
    "\n",
    "#set x limits\n",
    "plt.xlim([-90,90])\n",
    "\n",
    "#add grid\n",
    "plt.grid(which='major', axis='y')\n",
    "\n",
    "#create titles\n",
    "plt.title('Cumulative Sum of Total Net Radiation by Latitude')\n",
    "plt.xlabel('Degrees Latitude')\n",
    "plt.ylabel('Heat Transport (PW)')\n",
    "\n",
    "plt.show()\n",
    "\n"
   ]
  },
  {
   "cell_type": "markdown",
   "metadata": {},
   "source": [
    "## 5) Selecting and Merging Data\n",
    "\n",
    "For the next problem, use the following approximate locations of four different cities.\n",
    "\n",
    "| city | lon | lat |\n",
    "| -- | -- | -- |\n",
    "| Toronto |79 W | 42 N | \n",
    "| Bridgetown|59 W | 13 N |\n",
    "| Nome, Alaska | 165 W | 64 N | \n",
    "| Columbo, Sri Lanka | 80 E | 7 N |\n",
    "| Hobart, Tasmania | 147 E | 43 S |\n",
    "\n",
    "- Remember the range of the index values for lon and lat\n",
    "  - lon is $ [0, 360] $\n",
    "  - lat is $ [-90, 90]$"
   ]
  },
  {
   "cell_type": "markdown",
   "metadata": {},
   "source": [
    "### 5.1) Create a `Dataset` for each point from the global dataset\n",
    "Each city should get its own `Dataset` with the same variables as the one you imported. Find the nearest associated incoming solar radiation and net radiation timeseries at each city."
   ]
  },
  {
   "cell_type": "code",
   "execution_count": null,
   "metadata": {},
   "outputs": [],
   "source": [
    "print(f\"longitude values {data.lon.values}\")"
   ]
  },
  {
   "cell_type": "code",
   "execution_count": null,
   "metadata": {},
   "outputs": [],
   "source": [
    "print(f\"latitude values {data.lat.values}\")"
   ]
  },
  {
   "cell_type": "code",
   "execution_count": null,
   "metadata": {},
   "outputs": [],
   "source": [
    "#selecting specific data\n",
    "\n",
    "Nome = data.sel(lon=194.5, lat=63.5)\n",
    "Colombo = data.sel(lon=79.5, lat=6.5)\n",
    "Hobart = data.sel(lon=146.5, lat=-42.5)\n",
    "Bridgetown = data.sel(lon=300.5, lat=12.5)\n",
    "Toronto = data.sel(lon=280.5, lat=41.5)"
   ]
  },
  {
   "cell_type": "code",
   "execution_count": null,
   "metadata": {},
   "outputs": [],
   "source": [
    "#let's take a look at toronto\n",
    "\n",
    "Toronto"
   ]
  },
  {
   "cell_type": "markdown",
   "metadata": {},
   "source": [
    "Note the `sel()` function has selected the data that corresponds to the latitude and longitude requested."
   ]
  },
  {
   "cell_type": "markdown",
   "metadata": {},
   "source": [
    "### 5.2) Merge these datasets into a new dataset with the new dimension `city`\n",
    "\n",
    "Create a new dimension coordinate to hold the city name.\n",
    "Display the merged dataset."
   ]
  },
  {
   "cell_type": "code",
   "execution_count": null,
   "metadata": {},
   "outputs": [],
   "source": [
    "\n",
    "Toronto = Toronto.assign_coords({'City': 'Toronto'})\n",
    "Nome = Nome.assign_coords({'City': 'Nome'})\n",
    "Colombo = Colombo.assign_coords({'City': 'Colombo'})\n",
    "Bridgetown = Bridgetown.assign_coords({'City': 'Bridgetown'})\n",
    "Hobart = Hobart.assign_coords({'City': 'Hobart'})"
   ]
  },
  {
   "cell_type": "code",
   "execution_count": null,
   "metadata": {},
   "outputs": [],
   "source": [
    "#concatenate the cities on the City dimension\n",
    "Cities = xr.concat([Toronto, Hobart, Bridgetown, Colombo, Nome],dim='City')"
   ]
  },
  {
   "cell_type": "code",
   "execution_count": null,
   "metadata": {},
   "outputs": [],
   "source": [
    "Cities"
   ]
  },
  {
   "cell_type": "markdown",
   "metadata": {},
   "source": [
    "### 5.3) Plot the incoming solar and net radiation at each city\n"
   ]
  },
  {
   "cell_type": "code",
   "execution_count": null,
   "metadata": {},
   "outputs": [],
   "source": [
    "#index of the cities\n",
    "index_list = list(Cities['City'].indexes['City'])"
   ]
  },
  {
   "cell_type": "code",
   "execution_count": null,
   "metadata": {},
   "outputs": [],
   "source": [
    "#iterate through the index list and select the city for plotting\n",
    "for city in index_list:\n",
    "    data = Cities.toa_net_all_mon.sel(City=city)\n",
    "    data.plot(linewidth=0.8, label=city)\n",
    "\n",
    "\n",
    "plt.axhline(0, linestyle ='dashed', linewidth=0.3, color='black')\n",
    "plt.title(\"Timeseries of TOA Net Monthly Mean Flux For Select Cities\")\n",
    "plt.xlabel('Time in Years')\n",
    "plt.legend(bbox_to_anchor=(1,1.4))\n",
    "plt.tight_layout()\n",
    "plt.show()"
   ]
  },
  {
   "cell_type": "code",
   "execution_count": null,
   "metadata": {},
   "outputs": [],
   "source": [
    "#iterate through the index list and select the city for plotting\n",
    "for city in index_list:\n",
    "    data = Cities.solar_mon.sel(City=city)\n",
    "    data.plot(linewidth=0.8, label=city)\n",
    "\n",
    "plt.title(\"Timeseries of Incoming Monthly Mean Radiation For Select Cities\")\n",
    "plt.xlabel('Time in Years')\n",
    "plt.legend(bbox_to_anchor=(1,1.4))\n",
    "plt.tight_layout()\n",
    "plt.show()"
   ]
  },
  {
   "cell_type": "markdown",
   "metadata": {},
   "source": [
    "Examine the identified pattern and assess its suitability within the context of the specific location."
   ]
  },
  {
   "cell_type": "markdown",
   "metadata": {},
   "source": [
    "### Final Thoughts\n",
    "\n",
    "By now, you should have acquired a foundational understanding of data structures and manipulation in Xarray through this example. If you have additional questions, I suggest referring to the comprehensive [Xarray documentation](https://docs.xarray.dev/en/stable/index.html) for further guidance. <b/>"
   ]
  }
 ],
 "metadata": {
  "kernelspec": {
   "display_name": "Python 3 (ipykernel)",
   "language": "python",
   "name": "python3"
  },
  "language_info": {
   "codemirror_mode": {
    "name": "ipython",
    "version": 3
   },
   "file_extension": ".py",
   "mimetype": "text/x-python",
   "name": "python",
   "nbconvert_exporter": "python",
   "pygments_lexer": "ipython3",
   "version": "3.11.6"
  }
 },
 "nbformat": 4,
 "nbformat_minor": 4
}
